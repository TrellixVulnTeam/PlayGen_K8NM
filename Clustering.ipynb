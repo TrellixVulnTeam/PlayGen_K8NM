{
 "cells": [
  {
   "cell_type": "code",
   "execution_count": 1,
   "id": "5f8e8a02-ff50-4cc6-b816-01ea952d4286",
   "metadata": {},
   "outputs": [],
   "source": [
    "import pandas as pd\n",
    "import numpy as np\n",
    "from IPython.display import display\n",
    "from pandas_profiling import ProfileReport\n",
    "\n",
    "import pickle\n",
    "\n",
    "from sklearn.cluster import DBSCAN\n",
    "from sklearn.mixture import GaussianMixture\n",
    "from sklearn.cluster import MeanShift\n",
    "\n",
    "import time"
   ]
  },
  {
   "cell_type": "code",
   "execution_count": 2,
   "id": "0d32ffbb-43c8-47b7-adf9-64532dcd9a46",
   "metadata": {},
   "outputs": [],
   "source": [
    "# a = pd.read_csv('a1.csv')\n",
    "# prof = ProfileReport(a)\n",
    "# prof.to_file(output_file='outputOld.html')"
   ]
  },
  {
   "cell_type": "code",
   "execution_count": null,
   "id": "f692b061-e2f4-4aad-8c17-439e355b4425",
   "metadata": {},
   "outputs": [],
   "source": []
  },
  {
   "cell_type": "code",
   "execution_count": 3,
   "id": "fe228a0e-5cf7-4942-adf2-843d2433f50f",
   "metadata": {},
   "outputs": [
    {
     "data": {
      "text/html": [
       "<div>\n",
       "<style scoped>\n",
       "    .dataframe tbody tr th:only-of-type {\n",
       "        vertical-align: middle;\n",
       "    }\n",
       "\n",
       "    .dataframe tbody tr th {\n",
       "        vertical-align: top;\n",
       "    }\n",
       "\n",
       "    .dataframe thead th {\n",
       "        text-align: right;\n",
       "    }\n",
       "</style>\n",
       "<table border=\"1\" class=\"dataframe\">\n",
       "  <thead>\n",
       "    <tr style=\"text-align: right;\">\n",
       "      <th></th>\n",
       "      <th>album</th>\n",
       "      <th>id</th>\n",
       "      <th>name</th>\n",
       "      <th>uri</th>\n",
       "      <th>acousticness</th>\n",
       "      <th>danceability</th>\n",
       "      <th>energy</th>\n",
       "      <th>instrumentalness</th>\n",
       "      <th>liveness</th>\n",
       "      <th>loudness</th>\n",
       "      <th>speechiness</th>\n",
       "      <th>tempo</th>\n",
       "      <th>valence</th>\n",
       "      <th>popularity</th>\n",
       "      <th>artist</th>\n",
       "    </tr>\n",
       "  </thead>\n",
       "  <tbody>\n",
       "    <tr>\n",
       "      <th>0</th>\n",
       "      <td>Dark Lane Demo Tapes</td>\n",
       "      <td>3IvMYBE7A3c7to1aEcfFJk</td>\n",
       "      <td>Deep Pockets</td>\n",
       "      <td>spotify:track:3IvMYBE7A3c7to1aEcfFJk</td>\n",
       "      <td>0.482</td>\n",
       "      <td>0.473</td>\n",
       "      <td>0.824</td>\n",
       "      <td>0.000000</td>\n",
       "      <td>0.6050</td>\n",
       "      <td>-3.680</td>\n",
       "      <td>0.163</td>\n",
       "      <td>77.888</td>\n",
       "      <td>0.3740</td>\n",
       "      <td>60.0</td>\n",
       "      <td>Drake</td>\n",
       "    </tr>\n",
       "    <tr>\n",
       "      <th>1</th>\n",
       "      <td>Dark Lane Demo Tapes</td>\n",
       "      <td>5TCBWmEBrin7etRa4Lswr1</td>\n",
       "      <td>When To Say When</td>\n",
       "      <td>spotify:track:5TCBWmEBrin7etRa4Lswr1</td>\n",
       "      <td>0.252</td>\n",
       "      <td>0.410</td>\n",
       "      <td>0.820</td>\n",
       "      <td>0.000000</td>\n",
       "      <td>0.5380</td>\n",
       "      <td>-6.808</td>\n",
       "      <td>0.533</td>\n",
       "      <td>170.718</td>\n",
       "      <td>0.5260</td>\n",
       "      <td>62.0</td>\n",
       "      <td>Drake</td>\n",
       "    </tr>\n",
       "    <tr>\n",
       "      <th>2</th>\n",
       "      <td>Dark Lane Demo Tapes</td>\n",
       "      <td>4wVOKKEHUJxHCFFNUWDn0B</td>\n",
       "      <td>Chicago Freestyle (feat. Giveon)</td>\n",
       "      <td>spotify:track:4wVOKKEHUJxHCFFNUWDn0B</td>\n",
       "      <td>0.629</td>\n",
       "      <td>0.735</td>\n",
       "      <td>0.449</td>\n",
       "      <td>0.000000</td>\n",
       "      <td>0.1130</td>\n",
       "      <td>-7.507</td>\n",
       "      <td>0.347</td>\n",
       "      <td>122.947</td>\n",
       "      <td>0.0397</td>\n",
       "      <td>82.0</td>\n",
       "      <td>Drake</td>\n",
       "    </tr>\n",
       "    <tr>\n",
       "      <th>3</th>\n",
       "      <td>Dark Lane Demo Tapes</td>\n",
       "      <td>3Q4gttWQ6hxqWOa3tHoTNi</td>\n",
       "      <td>Not You Too (feat. Chris Brown)</td>\n",
       "      <td>spotify:track:3Q4gttWQ6hxqWOa3tHoTNi</td>\n",
       "      <td>0.342</td>\n",
       "      <td>0.458</td>\n",
       "      <td>0.452</td>\n",
       "      <td>0.000019</td>\n",
       "      <td>0.0703</td>\n",
       "      <td>-9.299</td>\n",
       "      <td>0.047</td>\n",
       "      <td>86.318</td>\n",
       "      <td>0.3160</td>\n",
       "      <td>66.0</td>\n",
       "      <td>Drake</td>\n",
       "    </tr>\n",
       "    <tr>\n",
       "      <th>4</th>\n",
       "      <td>Dark Lane Demo Tapes</td>\n",
       "      <td>466cKvZn1j45IpxDdYZqdA</td>\n",
       "      <td>Toosie Slide</td>\n",
       "      <td>spotify:track:466cKvZn1j45IpxDdYZqdA</td>\n",
       "      <td>0.289</td>\n",
       "      <td>0.830</td>\n",
       "      <td>0.490</td>\n",
       "      <td>0.000003</td>\n",
       "      <td>0.1130</td>\n",
       "      <td>-8.820</td>\n",
       "      <td>0.209</td>\n",
       "      <td>81.604</td>\n",
       "      <td>0.8450</td>\n",
       "      <td>75.0</td>\n",
       "      <td>Drake</td>\n",
       "    </tr>\n",
       "  </tbody>\n",
       "</table>\n",
       "</div>"
      ],
      "text/plain": [
       "                  album                      id  \\\n",
       "0  Dark Lane Demo Tapes  3IvMYBE7A3c7to1aEcfFJk   \n",
       "1  Dark Lane Demo Tapes  5TCBWmEBrin7etRa4Lswr1   \n",
       "2  Dark Lane Demo Tapes  4wVOKKEHUJxHCFFNUWDn0B   \n",
       "3  Dark Lane Demo Tapes  3Q4gttWQ6hxqWOa3tHoTNi   \n",
       "4  Dark Lane Demo Tapes  466cKvZn1j45IpxDdYZqdA   \n",
       "\n",
       "                               name                                   uri  \\\n",
       "0                      Deep Pockets  spotify:track:3IvMYBE7A3c7to1aEcfFJk   \n",
       "1                  When To Say When  spotify:track:5TCBWmEBrin7etRa4Lswr1   \n",
       "2  Chicago Freestyle (feat. Giveon)  spotify:track:4wVOKKEHUJxHCFFNUWDn0B   \n",
       "3   Not You Too (feat. Chris Brown)  spotify:track:3Q4gttWQ6hxqWOa3tHoTNi   \n",
       "4                      Toosie Slide  spotify:track:466cKvZn1j45IpxDdYZqdA   \n",
       "\n",
       "   acousticness  danceability  energy  instrumentalness  liveness  loudness  \\\n",
       "0         0.482         0.473   0.824          0.000000    0.6050    -3.680   \n",
       "1         0.252         0.410   0.820          0.000000    0.5380    -6.808   \n",
       "2         0.629         0.735   0.449          0.000000    0.1130    -7.507   \n",
       "3         0.342         0.458   0.452          0.000019    0.0703    -9.299   \n",
       "4         0.289         0.830   0.490          0.000003    0.1130    -8.820   \n",
       "\n",
       "   speechiness    tempo  valence  popularity artist  \n",
       "0        0.163   77.888   0.3740        60.0  Drake  \n",
       "1        0.533  170.718   0.5260        62.0  Drake  \n",
       "2        0.347  122.947   0.0397        82.0  Drake  \n",
       "3        0.047   86.318   0.3160        66.0  Drake  \n",
       "4        0.209   81.604   0.8450        75.0  Drake  "
      ]
     },
     "metadata": {},
     "output_type": "display_data"
    }
   ],
   "source": [
    "df = pd.read_csv('a0_650.csv')\n",
    "# display(a.head())\n",
    "df.drop([\"Unnamed: 0\", \"Unnamed: 0.1\"], axis = 1, inplace = True)\n",
    "display(df.head())\n",
    "# display(df.head())"
   ]
  },
  {
   "cell_type": "code",
   "execution_count": 4,
   "id": "a9421823-6dd8-4fed-bc42-ee7ac13d657d",
   "metadata": {},
   "outputs": [
    {
     "data": {
      "text/plain": [
       "(64818, 5)"
      ]
     },
     "execution_count": 4,
     "metadata": {},
     "output_type": "execute_result"
    }
   ],
   "source": [
    "# column2Cluster = ['acousticness', 'danceability', 'energy', 'liveness', 'loudness', 'speechiness', 'tempo', 'valence']\n",
    "## Removed all the exponentail distribution\n",
    "column2Cluster = ['danceability', 'energy', 'liveness' , 'tempo', 'valence']\n",
    "df2Cluster = df[column2Cluster]\n",
    "df2Cluster.shape"
   ]
  },
  {
   "cell_type": "markdown",
   "id": "5f8de1e7-33d3-42d1-af62-ec74e4bfad7e",
   "metadata": {},
   "source": [
    "# Finind number of Clusters\n",
    "Using **DBSCAN** to find the number of clusters to read more about the same visit: [sklearn](https://scikit-learn.org/stable/modules/generated/sklearn.cluster.DBSCAN.html)"
   ]
  },
  {
   "cell_type": "code",
   "execution_count": 25,
   "id": "1b4c6ce0-41a6-4d61-9cea-2f92aafdef7e",
   "metadata": {},
   "outputs": [],
   "source": [
    "# dbscan = DBSCAN(min_samples = 6).fit(df2Cluster)\n",
    "dbscan = DBSCAN(min_samples = 10).fit(df2Cluster)"
   ]
  },
  {
   "cell_type": "code",
   "execution_count": 26,
   "id": "d397ed34-6a0d-48a4-8fec-2b338b2360da",
   "metadata": {},
   "outputs": [
    {
     "name": "stdout",
     "output_type": "stream",
     "text": [
      "[-1  0  1  2  3  4  5  6]\n",
      "Number of Noisy point: 459\n",
      "Number of Clusters to GMM: 7\n"
     ]
    }
   ],
   "source": [
    "uniLabels = np.unique(dbscan.labels_)\n",
    "labels = dbscan.labels_\n",
    "print(uniLabels)\n",
    "print(\"Number of Noisy point:\",len(labels[labels == -1]))\n",
    "noClusters = len(uniLabels)-1\n",
    "print(\"Number of Clusters to GMM:\", noClusters)"
   ]
  },
  {
   "cell_type": "markdown",
   "id": "f6f50e17-6cc9-4e7b-b77b-a2fff42402ee",
   "metadata": {},
   "source": [
    "# Fitting GMM \n",
    "Using GMM to get the probabilistic distribution of each point towards the Cluster Center."
   ]
  },
  {
   "cell_type": "code",
   "execution_count": 27,
   "id": "81b1c4e2-ced0-46ab-a256-fd50d1d36226",
   "metadata": {},
   "outputs": [
    {
     "name": "stdout",
     "output_type": "stream",
     "text": [
      "Initialization 0\n",
      "  Iteration 10\n",
      "  Iteration 20\n",
      "  Iteration 30\n",
      "  Iteration 40\n",
      "Initialization converged: True\n",
      "6.705728054046631\n"
     ]
    }
   ],
   "source": [
    "t1 = time.time()\n",
    "gmm = GaussianMixture(n_components = noClusters, verbose  = 1)\n",
    "gmm.fit(df2Cluster)\n",
    "t2 = time.time() -t1\n",
    "print(t2)"
   ]
  },
  {
   "cell_type": "markdown",
   "id": "ea2a5e4c-0255-4912-8ef9-f7ca3dd5d28d",
   "metadata": {},
   "source": [
    "# Save and Load Model"
   ]
  },
  {
   "cell_type": "code",
   "execution_count": 5,
   "id": "a9588ce0-5e2e-4c01-8003-6c341244c8c1",
   "metadata": {},
   "outputs": [],
   "source": [
    "def saveModel(modelClass, fileName):\n",
    "\tfileName+='.sav'\n",
    "\tpickle.dump(modelClass, open('models/'+fileName, 'wb'))\n",
    "\treturn 'models/'+fileName\n",
    "\n",
    "def loadModel(fileName):\n",
    "\tmodel = pickle.load(open(fileName, 'rb'))\n",
    "\treturn model"
   ]
  },
  {
   "cell_type": "code",
   "execution_count": 7,
   "id": "d706660f-38fb-4fb9-b9ad-9a8ba6bce98b",
   "metadata": {},
   "outputs": [],
   "source": [
    "# saveModel(dbscan, 'dbscanForCluster')\n",
    "# saveModel(gmm, 'GMM')\n",
    "dbscan = loadModel('models/dbscanForCluster.sav')\n",
    "gmmUni = loadModel('models/GMM.sav')"
   ]
  },
  {
   "cell_type": "code",
   "execution_count": 8,
   "id": "6e38d358-1adc-4814-a132-da58b3e4d692",
   "metadata": {},
   "outputs": [
    {
     "name": "stdout",
     "output_type": "stream",
     "text": [
      "[-1  0  1  2  3  4  5  6]\n",
      "Number of Noisy point: 459\n",
      "Number of Clusters to GMM: 7\n"
     ]
    }
   ],
   "source": [
    "uniLabels = np.unique(dbscan.labels_)\n",
    "labels = dbscan.labels_\n",
    "print(uniLabels)\n",
    "print(\"Number of Noisy point:\",len(labels[labels == -1]))\n",
    "noClusters = len(uniLabels)-1\n",
    "print(\"Number of Clusters to GMM:\", noClusters)"
   ]
  },
  {
   "cell_type": "markdown",
   "id": "6941a50e-b392-4566-beef-c8aa583b303c",
   "metadata": {},
   "source": [
    "# The probability density function for multivariate_normal is\n",
    "$f(x) = \\frac{1}{\\sqrt{{2\\pi}^k det(\\sum)}}exp(\\frac{-1}{2}{(x-\\mu)}^T)\\sum^{-1}(x-\\mu)$\n",
    "\n",
    "## So from the above equation we can safetly store $det(\\sum)$ and $\\sum^{-1}$"
   ]
  },
  {
   "cell_type": "code",
   "execution_count": 31,
   "id": "ad65b1c7-d3c4-450d-8179-e65d28252ed9",
   "metadata": {},
   "outputs": [
    {
     "name": "stdout",
     "output_type": "stream",
     "text": [
      "mkdir: cannot create directory ‘savedData’: File exists\n"
     ]
    }
   ],
   "source": [
    "!mkdir savedData"
   ]
  },
  {
   "cell_type": "code",
   "execution_count": 32,
   "id": "7c0129c9-bd0b-4d85-85e2-79b21a98e20a",
   "metadata": {
    "tags": []
   },
   "outputs": [],
   "source": [
    "det = [] \n",
    "for i in gmmUni.covariances_:\n",
    "    det.append(np.linalg.det(i))\n",
    "inv = []\n",
    "for i in gmmUni.covariances_:\n",
    "    inv.append(np.linalg.inv(i))\n",
    "det = np.array(det)\n",
    "inv = np.array(inv)"
   ]
  },
  {
   "cell_type": "code",
   "execution_count": 33,
   "id": "efefa285-a6b2-4531-bb93-bab531667595",
   "metadata": {
    "tags": []
   },
   "outputs": [],
   "source": [
    "np.save('savedData/CovDeterminant.npy', det)\n",
    "np.save('savedData/CovInverse.npy', inv)"
   ]
  },
  {
   "cell_type": "markdown",
   "id": "d5208668-c6d5-4381-aaec-a32233c36281",
   "metadata": {},
   "source": [
    "# Making Cluster related Data"
   ]
  },
  {
   "cell_type": "code",
   "execution_count": 34,
   "id": "8cfe8788-f433-470f-a6b3-b404c33b9c57",
   "metadata": {},
   "outputs": [],
   "source": [
    "X = df2Cluster.values\n",
    "\n",
    "pro = gmmUni.predict_proba(X)\n",
    "\n",
    "newCols = ['album', 'name', 'artist']\n",
    "futureDf = {i: df[i].values for i in newCols}\n",
    "for i in range(noClusters):\n",
    "    futureDf['Cluster'+str(i)] = 0\n",
    "futureDf['maxClass'] =  0\n",
    "futureDf['sumProbabs'] = 0\n"
   ]
  },
  {
   "cell_type": "code",
   "execution_count": 35,
   "id": "0ed893a4-de52-469b-bbe0-0ecd0b826ed4",
   "metadata": {},
   "outputs": [
    {
     "name": "stdout",
     "output_type": "stream",
     "text": [
      "Columns = Index(['album', 'name', 'artist', 'Cluster0', 'Cluster1', 'Cluster2',\n",
      "       'Cluster3', 'Cluster4', 'Cluster5', 'Cluster6', 'maxClass',\n",
      "       'sumProbabs', 'sum'],\n",
      "      dtype='object')\n"
     ]
    }
   ],
   "source": [
    "for i in range(noClusters): \n",
    "    futureDf['Cluster'+str(i)] = pro[:, i]\n",
    "futureDf['maxClass'] = np.argmax(pro, axis = 1)\n",
    "futureDf['sum'] = np.sum(pro, axis = 1)\n",
    "futureDf = pd.DataFrame(futureDf)\n",
    "print(\"Columns =\",str(futureDf.columns))"
   ]
  },
  {
   "cell_type": "markdown",
   "id": "00db596f-eeaf-42a7-bffc-5d1271369249",
   "metadata": {},
   "source": [
    "## Saving the above data: "
   ]
  },
  {
   "cell_type": "code",
   "execution_count": 36,
   "id": "caf398f5-fe4f-49a3-a722-6890e0419a97",
   "metadata": {},
   "outputs": [],
   "source": [
    "futureDf.to_csv('savedData/clusteredUniverse.csv', index = False)"
   ]
  },
  {
   "cell_type": "code",
   "execution_count": 37,
   "id": "64f47f8f-401e-4a05-81c2-1598576c9dc9",
   "metadata": {},
   "outputs": [],
   "source": [
    "\n",
    "for i in range(noClusters):\n",
    "    temp = df[futureDf['maxClass']==i]\n",
    "    temp.to_csv('savedData/Clustered_Songs/Cluster'+str(i)+'.csv', index = False)"
   ]
  },
  {
   "cell_type": "markdown",
   "id": "3d9cb84d-cb42-400e-8335-125621c97dff",
   "metadata": {},
   "source": [
    "# Extra-Polating songs"
   ]
  },
  {
   "cell_type": "code",
   "execution_count": 21,
   "id": "d6aee6b1-dccf-49fc-8d8f-5bcb7464dc00",
   "metadata": {},
   "outputs": [],
   "source": [
    "clusters = []\n",
    "for i in range(noClusters):\n",
    "    clusters.append(pd.read_csv('savedData/Clustered_Songs/Cluster'+str(i)+'.csv'))"
   ]
  },
  {
   "cell_type": "code",
   "execution_count": 48,
   "id": "281ff078-084e-403f-b2bc-d4c96d0151b3",
   "metadata": {},
   "outputs": [],
   "source": [
    "def getSongsFromQuery(name, album,  Artist):\n",
    "    totalSongs = len(album)\n",
    "    sampleDf = pd.DataFrame(columns = df.columns)\n",
    "    featureSpace = pd.DataFrame(columns = column2Cluster)\n",
    "    for i in range(totalSongs):\n",
    "        f1 = df['name']==name[i]\n",
    "        f2 = df['album']==album[i]\n",
    "        temp = df.loc[f1&f2]\n",
    "        if len(temp) == 1:\n",
    "            featureSpace = pd.concat([featureSpace, temp[column2Cluster]], ignore_index = True)\n",
    "            sampleDf = pd.concat([sampleDf, temp], ignore_index = False)\n",
    "        else:\n",
    "            f3 = df['Artist']==Artist[i]\n",
    "            temp = temp.loc[f3]\n",
    "            featureSpace = pd.concat([featureSpace, temp[column2Cluster]], ignore_index = True)\n",
    "            sampleDf = pd.concat([sampleDf, temp], ignore_index = False)\n",
    "    return featureSpace.values, sampleDf\n",
    "def findNumberCluster(x):\n",
    "    ms = MeanShift(bandwidth=5).fit(x)\n",
    "    print(ms.predict(x))\n",
    "    return len(np.unique(ms.fit_predict(x)))\n",
    "\n",
    "def naivePlaylist(sampleNoClusters, x):\n",
    "    sampleGmm = GaussianMixture(n_components = sampleNoClusters).fit(x)\n",
    "    probabilities = sampleGmm.predict_proba(x)\n",
    "    gmm_labels = sampleGmm.predict(x)\n",
    "    finalPlaylist = []\n",
    "    \n",
    "    for _ in range(sampleNoClusters):\n",
    "        finalPlaylist.append([])\n",
    "        \n",
    "    for i in range(len(x)):  \n",
    "        for j in range(sampleNoClusters):\n",
    "            if probabilities[i][j]>=1/sampleNoClusters:\n",
    "                finalPlaylist[j].append(i)\n",
    "#                 print(\"I: \", i)\n",
    "#         print(finalPlaylist)\n",
    "    return finalPlaylist\n",
    "\n",
    "def playLsit2Song(toChoose, finalPlaylist):\n",
    "    toRet = []\n",
    "    for i in range(len(finalPlaylist)):\n",
    "        toRet.append([])\n",
    "        for j in range(len(finalPlaylist[i])):\n",
    "            list(toChoose.iloc[finalPlaylist[i][j],:][['name', 'album', 'artist']])\n",
    "            toRet[-1].append(list(toChoose.iloc[finalPlaylist[i][j],:][['name', 'album', 'artist']]))\n",
    "    return toRet\n",
    "\n",
    "\n",
    "def extrapolation(finalPlaylist, maxSongsPerPlaylist, localSongsData, songsPlayList): \n",
    "    for playlistNo in range(len(finalPlaylist)):\n",
    "        if len(finalPlaylist[playlistNo])>=maxSongsPerPlaylist:\n",
    "            continue\n",
    "        currentSongs = len(finalPlaylist[playlistNo])\n",
    "        moreSongsReq = maxSongsPerPlaylist - currentSongs\n",
    "        newSongsPerCS = moreSongsReq/currentSongs\n",
    "        \n",
    "        predictions = gmmUni.predict(localSongsData[finalPlaylist[playlistNo]]) ## A prediction for each plalist\n",
    "        \n",
    "        countOfPrediction = {i: len(predictions[predictions==i]) for i in np.unique(predictions)}\n",
    "        songs = []\n",
    "        tupples = []\n",
    "        s1 = len(finalPlaylist[playlistNo])\n",
    "        forPlaylist = [] \n",
    "        for i in range(len(np.unique(predictions))): \n",
    "            temp = clusters[predictions[i]][column2Cluster].values - localSongsData[finalPlaylist[playlistNo]][i]\n",
    "    \n",
    "            temp = np.linalg.norm(temp,axis = 1)\n",
    "            sortedArg = np.argsort(temp)[:moreSongsReq]\n",
    "#             sortedArg = np.randomnp.argsort(temp)[::-1]\n",
    "            indices = np.random.choice(sortedArg, 1+int(moreSongsReq*countOfPrediction[predictions[i]]/len(predictions)))\n",
    "            \n",
    "#             songsPlayList[playlistNo]+=clusters[predictions[i]].iloc[indices,:][['name', 'album', 'artist']].values\n",
    "#             songsPlayList[playlistNo].append(list(clusters[predictions[i]].iloc[indices,:][['name', 'album', 'artist']].values.tolist()))\n",
    "            songsPlayList[playlistNo]+=clusters[predictions[i]].iloc[indices,:][['name', 'album', 'artist']].values.tolist()\n",
    "            s1+=len(indices)\n",
    "#          if s1<maxSongsPerPlaylist:\n",
    "#                 songsPlayList\n",
    "    return songsPlayList\n",
    "# def reformattor(songsPlayList):\n",
    "#     new = []\n",
    "#     for i in range(len(songsPlayList)):\n",
    "        "
   ]
  },
  {
   "cell_type": "code",
   "execution_count": 54,
   "id": "954b9be4-9347-4966-9960-ebdb48d24a45",
   "metadata": {
    "tags": []
   },
   "outputs": [],
   "source": [
    "# toChoose = np.random.randint(0,len(df), (10))\n",
    "# g = df.iloc[toChoose, :]\n",
    "# gdf = pd.DataFrame(df.iloc[toChoose, :])\n",
    "# # display(g)\n",
    "# data = g[column2Cluster].values\n",
    "# g = g[['album', 'name', 'artist']]\n",
    "# g = g.values\n",
    "# maxSongsPerPlaylist = 10\n",
    "# x = getSongsFromQuery(g[:,0], g[:, 1], g[:,2])\n",
    "# sampleClusters = findNumberCluster(x)\n",
    "# # print(sampleClusters)\n",
    "# clusteredPlaylist = naivePlaylist(sampleClusters, x)\n",
    "# print(clusteredPlaylist)\n",
    "# songsPlayList = playLsit2Song(gdf, clusteredPlaylist)"
   ]
  },
  {
   "cell_type": "code",
   "execution_count": 50,
   "id": "81d45785-197f-40a7-885e-80762712a03e",
   "metadata": {},
   "outputs": [
    {
     "name": "stdout",
     "output_type": "stream",
     "text": [
      "[2 0 3 4 1 0]\n"
     ]
    }
   ],
   "source": [
    "# newSongs = [['Different World', 'Lily', 'Alan Walker'], ['Different World', 'Darkside', 'Alan Walker'], ['My House','Wobble','Flo Rida'], ['Nu-mixx Klazzics', 'Heartz Of Men', '2Pac']]\n",
    "newSongs = [['For Those About to Rock (We Salute You)', 'Evil Walks', 'AC/DC'],\n",
    "['Highway to Hell', 'Get It Hot', 'AC/DC'],\n",
    "['Different World', 'Faded', 'Alan Walker'],\n",
    "['Revolution Radio', 'Too Dumb to Die', 'Green Day'],\n",
    "['House Of Balloons (Original)', 'Coming Down - Original', 'Daft Punk'],\n",
    "['Beauty Behind The Madness', \"Can't Feel My Face - Martin Garrix Remix\",'Daft Punk']]\n",
    "\n",
    "newSongs = np.array(newSongs)\n",
    "maxSongsPerPlaylist = 5\n",
    "x,g = getSongsFromQuery(newSongs[:,0], newSongs[:,1], newSongs[:,2])\n",
    "sampleClusters = findNumberCluster(x)\n",
    "clusteredPlaylist = naivePlaylist(sampleClusters, x)\n",
    "s = playLsit2Song(g, clusteredPlaylist)"
   ]
  },
  {
   "cell_type": "code",
   "execution_count": 51,
   "id": "5cbc67b4-d8e2-43e7-9d06-e00101bc081a",
   "metadata": {},
   "outputs": [],
   "source": [
    "s = extrapolation(clusteredPlaylist, maxSongsPerPlaylist, x, s)"
   ]
  },
  {
   "cell_type": "code",
   "execution_count": 56,
   "id": "490d211a-1056-42bd-bf36-b51e02d5c4a8",
   "metadata": {},
   "outputs": [
    {
     "data": {
      "text/plain": [
       "[[['Get It Hot', 'Highway to Hell', 'AC/DC'],\n",
       "  [\"Can't Feel My Face - Martin Garrix Remix\",\n",
       "   'Beauty Behind The Madness',\n",
       "   'Daft Punk'],\n",
       "  ['Proud Mary - Remastered / Live At The Oakland Coliseum, Oakland, CA / January 31, 1970',\n",
       "   'The Concert',\n",
       "   'Creedence Clearwater Revival'],\n",
       "  ['You Shook Me All Night Long - Live at River Plate Stadium, Buenos Aires, Argentina - December 2009',\n",
       "   'Live at River Plate',\n",
       "   'AC/DC'],\n",
       "  ['Weight Of The World', 'Peachtree Road', 'Elton John'],\n",
       "  ['Cuando Más Te Amaba - Live',\n",
       "   'Rompiendo Fronteras (Deluxe)',\n",
       "   'Alejandro FernÃ¡ndez']],\n",
       " [['Faded', 'Different World', 'Alan Walker'],\n",
       "  ['Dead Friends', 'The World Is Yours', 'Rich The Kid'],\n",
       "  ['Dead Friends', 'The World Is Yours', 'Rich The Kid'],\n",
       "  ['Dead Friends', 'The World Is Yours', 'Rich The Kid'],\n",
       "  ['Kobe Bryant', 'Rich Rich', 'Ufo361'],\n",
       "  ['777', 'Nectar', 'Joji']],\n",
       " [['Evil Walks', 'For Those About to Rock (We Salute You)', 'AC/DC'],\n",
       "  ['Rock Me Baby - Live',\n",
       "   'Sticky Fingers Live At The Fonda Theatre',\n",
       "   'The Rolling Stones'],\n",
       "  ['Rock Me Baby - Live',\n",
       "   'Sticky Fingers Live At The Fonda Theatre',\n",
       "   'The Rolling Stones'],\n",
       "  ['Hard Times (feat. Black Thought)', 'Wake Up!', 'John Legend'],\n",
       "  ['Minutos - Circo Soledad En Vivo',\n",
       "   'Circo Soledad En Vivo',\n",
       "   'Ricardo Arjona'],\n",
       "  ['Minutos - Circo Soledad En Vivo',\n",
       "   'Circo Soledad En Vivo',\n",
       "   'Ricardo Arjona']],\n",
       " [['Too Dumb to Die', 'Revolution Radio', 'Green Day'],\n",
       "  ['To Be with You', 'Turnaround', 'Westlife'],\n",
       "  ['Lazy Bones', '¡DOS!', 'Green Day'],\n",
       "  ['Superheroes', 'No Sound Without Silence', 'The Script'],\n",
       "  ['Heartbreak Girl', '5 Seconds Of Summer', '5 Seconds of Summer'],\n",
       "  ['Heartbreak Girl', '5 Seconds Of Summer', '5 Seconds of Summer']],\n",
       " [['Coming Down - Original', 'House Of Balloons (Original)', 'Daft Punk'],\n",
       "  [\"Nobody In His Right Mind Would've Left Her\",\n",
       "   '50 Number Ones',\n",
       "   'George Strait'],\n",
       "  [\"Nobody In His Right Mind Would've Left Her\",\n",
       "   '50 Number Ones',\n",
       "   'George Strait'],\n",
       "  ['In It', 'The GloFiles (Pt. 4)', 'Chief Keef'],\n",
       "  [\"I Guess That's Why They Call It the Blues - Official Bar Karaoke Version in the Style of Elton John\",\n",
       "   'Official Bar Karaoke: Songs of Elton John',\n",
       "   'CÃ©️line Dion'],\n",
       "  ['No Love', 'By Any Means 2', 'Kevin Gates']]]"
      ]
     },
     "execution_count": 56,
     "metadata": {},
     "output_type": "execute_result"
    }
   ],
   "source": [
    "s"
   ]
  },
  {
   "cell_type": "code",
   "execution_count": 59,
   "id": "793f4cb3-71fc-42ba-a568-cb7cb21822d7",
   "metadata": {},
   "outputs": [],
   "source": [
    "s = extrapolation(clusteredPlaylist, maxSongsPerPlaylist, data, songsPlayList)"
   ]
  },
  {
   "cell_type": "code",
   "execution_count": 60,
   "id": "3d8c6991-ac71-4dee-b018-77e22e75428c",
   "metadata": {},
   "outputs": [
    {
     "name": "stdout",
     "output_type": "stream",
     "text": [
      "12\n",
      "12\n",
      "11\n",
      "11\n",
      "12\n"
     ]
    }
   ],
   "source": [
    "# for i in songsPlayList:\n",
    "#     print(len(i))\n",
    "for i in s:\n",
    "    print(len(i))"
   ]
  },
  {
   "cell_type": "code",
   "execution_count": 56,
   "id": "cac7d86d-2a3e-488d-a6a3-3697a4ecfdab",
   "metadata": {},
   "outputs": [
    {
     "data": {
      "text/plain": [
       "[['Esa Nena Mueve el Culo', 'Vol. 4', 'Cartel De Santa'],\n",
       " ['My Type', 'Memories...Do Not Open', 'Daya'],\n",
       " ['Jubilee',\n",
       "  'Satchmo: The Decca And Verve Years 1924-1967',\n",
       "  'Louis Armstrong'],\n",
       " ['Wasted', 'Some Hearts', 'Carrie Underwood'],\n",
       " ['El Calimete', 'Dembow Exitos Vol. 2', 'El Alfa'],\n",
       " ['If No One Will Listen', 'All I Ever Wanted', 'Kelly Clarkson'],\n",
       " ['Pure Water (with Migos)', 'Perfect Ten', 'Mustard'],\n",
       " ['Alive', 'Blossom (Deluxe)', 'Milky Chance']]"
      ]
     },
     "execution_count": 56,
     "metadata": {},
     "output_type": "execute_result"
    }
   ],
   "source": [
    "s[0]"
   ]
  },
  {
   "cell_type": "code",
   "execution_count": 33,
   "id": "3367c1c5-4395-4828-bf30-dc4cb80c59d1",
   "metadata": {},
   "outputs": [
    {
     "data": {
      "text/plain": [
       "['Tu y yo', 'Kisses', 'Anitta']"
      ]
     },
     "execution_count": 33,
     "metadata": {},
     "output_type": "execute_result"
    }
   ],
   "source": [
    "def formattor(s):\n",
    "    for i in range(len())"
   ]
  },
  {
   "cell_type": "code",
   "execution_count": 38,
   "id": "4f5969a0-61b1-4774-b1d0-f9916c5e740b",
   "metadata": {},
   "outputs": [
    {
     "data": {
      "text/plain": [
       "True"
      ]
     },
     "execution_count": 38,
     "metadata": {},
     "output_type": "execute_result"
    }
   ],
   "source": [
    "isinstance(s[0][0], list)"
   ]
  },
  {
   "cell_type": "code",
   "execution_count": 46,
   "id": "8aab773a-a777-4a6e-87fb-888e6e34e615",
   "metadata": {},
   "outputs": [
    {
     "ename": "TypeError",
     "evalue": "'type' object is not iterable",
     "output_type": "error",
     "traceback": [
      "\u001b[0;31m---------------------------------------------------------------------------\u001b[0m",
      "\u001b[0;31mTypeError\u001b[0m                                 Traceback (most recent call last)",
      "\u001b[0;32m<ipython-input-46-a8502d46c93c>\u001b[0m in \u001b[0;36m<module>\u001b[0;34m\u001b[0m\n\u001b[0;32m----> 1\u001b[0;31m \u001b[0misinstance\u001b[0m\u001b[0;34m(\u001b[0m\u001b[0ms\u001b[0m\u001b[0;34m[\u001b[0m\u001b[0;36m0\u001b[0m\u001b[0;34m]\u001b[0m\u001b[0;34m[\u001b[0m\u001b[0;36m4\u001b[0m\u001b[0;34m]\u001b[0m\u001b[0;34m,\u001b[0m \u001b[0mlist\u001b[0m\u001b[0;34m(\u001b[0m\u001b[0mlist\u001b[0m\u001b[0;34m)\u001b[0m\u001b[0;34m)\u001b[0m\u001b[0;34m\u001b[0m\u001b[0;34m\u001b[0m\u001b[0m\n\u001b[0m",
      "\u001b[0;31mTypeError\u001b[0m: 'type' object is not iterable"
     ]
    }
   ],
   "source": [
    "isinstance(s[0][4], )"
   ]
  },
  {
   "cell_type": "code",
   "execution_count": 47,
   "id": "909478e1-9f47-4f34-a421-7ad2abf66e86",
   "metadata": {},
   "outputs": [
    {
     "name": "stderr",
     "output_type": "stream",
     "text": [
      "/home/salil/.local/lib/python3.6/site-packages/ipykernel_launcher.py:1: VisibleDeprecationWarning: Creating an ndarray from ragged nested sequences (which is a list-or-tuple of lists-or-tuples-or ndarrays with different lengths or shapes) is deprecated. If you meant to do this, you must specify 'dtype=object' when creating the ndarray\n",
      "  \"\"\"Entry point for launching an IPython kernel.\n"
     ]
    }
   ],
   "source": [
    "b = np.array(s[0])"
   ]
  },
  {
   "cell_type": "code",
   "execution_count": 51,
   "id": "5093f218-85b4-48f9-a535-fbe4f4a6a9fb",
   "metadata": {},
   "outputs": [
    {
     "data": {
      "text/plain": [
       "7"
      ]
     },
     "execution_count": 51,
     "metadata": {},
     "output_type": "execute_result"
    }
   ],
   "source": [
    "len(b.flatten())"
   ]
  },
  {
   "cell_type": "code",
   "execution_count": null,
   "id": "9964db3f-c96c-486f-9953-57f7928d13f4",
   "metadata": {},
   "outputs": [],
   "source": []
  }
 ],
 "metadata": {
  "kernelspec": {
   "display_name": "Python 3",
   "language": "python",
   "name": "python3"
  },
  "language_info": {
   "codemirror_mode": {
    "name": "ipython",
    "version": 3
   },
   "file_extension": ".py",
   "mimetype": "text/x-python",
   "name": "python",
   "nbconvert_exporter": "python",
   "pygments_lexer": "ipython3",
   "version": "3.6.13"
  }
 },
 "nbformat": 4,
 "nbformat_minor": 5
}
